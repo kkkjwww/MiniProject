{
 "cells": [
  {
   "cell_type": "markdown",
   "id": "f6e86ad4-ddcf-4880-b878-fe6afd0bbb78",
   "metadata": {},
   "source": [
    "## 모듈 임포트"
   ]
  },
  {
   "cell_type": "code",
   "execution_count": 1,
   "id": "c645be61-f381-4b56-bc42-26f1251e33d8",
   "metadata": {},
   "outputs": [],
   "source": [
    "import requests\n",
    "from bs4 import BeautifulSoup\n",
    "\n",
    "import pandas as pd\n",
    "import numpy as np\n",
    "\n",
    "from datetime import datetime"
   ]
  },
  {
   "cell_type": "markdown",
   "id": "952e44a0-da5f-44fc-bf75-4b7783502a31",
   "metadata": {},
   "source": [
    "## 다음 경제 뉴스 스크래핑"
   ]
  },
  {
   "cell_type": "code",
   "execution_count": 2,
   "id": "5bd5ae02-01d7-4af2-8e43-2ec5820b7449",
   "metadata": {},
   "outputs": [],
   "source": [
    "url = \"https://news.daum.net/economic#1\"\n",
    "economic_page = requests.get(url)\n",
    "\n",
    "soup = BeautifulSoup(economic_page.text, 'html.parser')\n",
    "\n",
    "# 현재시각\n",
    "now = datetime.now()\n",
    "now = now.strftime('%Y-%m-%d %H:%M:%S')"
   ]
  },
  {
   "cell_type": "code",
   "execution_count": 3,
   "id": "087ccffe-414b-4265-af5d-4048b0ffbdb9",
   "metadata": {
    "scrolled": true
   },
   "outputs": [
    {
     "data": {
      "text/plain": [
       "[['2024-08-12 09:18:15',\n",
       "  '코스피, 美 경기 침체 불안 진정에 2600선 안착 시도',\n",
       "  '한국경제',\n",
       "  'https://v.daum.net/v/20240812091501680',\n",
       "  'https://img1.daumcdn.net/thumb/S224x140ht.u/?fname=https%3A%2F%2Ft1.daumcdn.net%2Fnews%2F202408%2F12%2Fked%2F20240812091503968svkv.jpg&scode=media2'],\n",
       " ['2024-08-12 09:18:15',\n",
       "  \"[자막뉴스] 청주시, 고물가 잡는 '착한가격업소' 2배 늘린다\",\n",
       "  'CJB청주방송',\n",
       "  'https://v.daum.net/v/20240812091355642',\n",
       "  'https://img1.daumcdn.net/thumb/S224x140ht.u/?fname=https%3A%2F%2Ft1.daumcdn.net%2Fnews%2F202408%2F12%2FCJB%2F20240812091408337zblr.jpg&scode=media2'],\n",
       " ['2024-08-12 09:18:15',\n",
       "  \"'2025 올해의 차' 전반기 심사, 10개 브랜드 18대 통과\",\n",
       "  '머니투데이',\n",
       "  'https://v.daum.net/v/20240812091353641',\n",
       "  'https://img1.daumcdn.net/thumb/S224x140ht.u/?fname=https%3A%2F%2Ft1.daumcdn.net%2Fnews%2F202408%2F12%2Fmoneytoday%2F20240812091354721pnqm.jpg&scode=media2'],\n",
       " ['2024-08-12 09:18:15',\n",
       "  '코스피, 외인 매수세에 0.76% 오른 2600선',\n",
       "  '조선비즈',\n",
       "  'https://v.daum.net/v/20240812091303616',\n",
       "  'https://img1.daumcdn.net/thumb/S224x140ht.u/?fname=https%3A%2F%2Ft1.daumcdn.net%2Fnews%2F202408%2F12%2Fchosunbiz%2F20240812091305416lfkx.jpg&scode=media2'],\n",
       " ['2024-08-12 09:18:15',\n",
       "  \"'티메프' 피해 업체 유치 나섰다…토종 이커머스, '착한기업' 알리고, 수수료 면제까지\",\n",
       "  'MBN',\n",
       "  'https://v.daum.net/v/20240812091217587',\n",
       "  'https://img1.daumcdn.net/thumb/S224x140ht.u/?fname=https%3A%2F%2Ft1.daumcdn.net%2Fnews%2F202408%2F12%2Fmbn%2F20240812091218362cebg.jpg&scode=media2'],\n",
       " ['2024-08-12 09:18:15',\n",
       "  '[단독] 특허 출원해도 등록 못 받는 중소기업들...대체 왜?',\n",
       "  '매일경제',\n",
       "  'https://v.daum.net/v/20240812091201573',\n",
       "  'https://img1.daumcdn.net/thumb/S224x140ht.u/?fname=https%3A%2F%2Ft1.daumcdn.net%2Fnews%2F202408%2F12%2Fmk%2F20240812091202944sage.png&scode=media2'],\n",
       " ['2024-08-12 09:18:15',\n",
       "  '경기침체 공포 끝났나…코스피 안도 랠리, 2600선 회복',\n",
       "  <span class=\"info_cp\">머니투데이</span>,\n",
       "  'https://v.daum.net/v/20240812091434659',\n",
       "  nan],\n",
       " ['2024-08-12 09:18:15',\n",
       "  '일본 증시 1.1조 달러 증발…\"현 밸류는 저가 매수의 기회\"',\n",
       "  <span class=\"info_cp\">뉴스1</span>,\n",
       "  'https://v.daum.net/v/20240812091156567',\n",
       "  nan],\n",
       " ['2024-08-12 09:18:15',\n",
       "  \"'4대銀 주담대 연체 6년만 최대, 임의경매도 11년만 최대'…안전자산 주담대도 ‘부실’ 속출[머니뭐니]\",\n",
       "  <span class=\"info_cp\">헤럴드경제</span>,\n",
       "  'https://v.daum.net/v/20240812090858480',\n",
       "  nan],\n",
       " ['2024-08-12 09:18:15',\n",
       "  '현대차의 자신감··· 8000만 원대 팰리세이드로 VVIP 시장 공략[Biz-플러스]',\n",
       "  <span class=\"info_cp\">서울경제</span>,\n",
       "  'https://v.daum.net/v/20240812080909955',\n",
       "  nan],\n",
       " ['2024-08-12 09:18:15',\n",
       "  '[부동산AtoZ] \"경기도 이천 아파트 분양 6개월 더 늦어진다, 왜?\"',\n",
       "  <span class=\"info_cp\">아시아경제</span>,\n",
       "  'https://v.daum.net/v/20240812090845476',\n",
       "  nan],\n",
       " ['2024-08-12 09:18:15',\n",
       "  '[팽동현의 테크픽] AI·자율주행시대 희망?…슈퍼컴 `도조` 키우는 머스크',\n",
       "  <span class=\"info_cp\">디지털타임스</span>,\n",
       "  'https://v.daum.net/v/20240812062910429',\n",
       "  nan],\n",
       " ['2024-08-12 09:18:15',\n",
       "  \"역대급 폭염에 '금고추'·'금오이'…'히트플레이션' 우려\",\n",
       "  <span class=\"info_cp\">MBN</span>,\n",
       "  'https://v.daum.net/v/20240812090822471',\n",
       "  nan],\n",
       " ['2024-08-12 09:18:15',\n",
       "  '코스닥, 2.78P 오른 767.21 출발(0.36%↑)',\n",
       "  <span class=\"info_cp\">아시아경제</span>,\n",
       "  'https://v.daum.net/v/20240812090807460',\n",
       "  nan],\n",
       " ['2024-08-12 09:18:15',\n",
       "  '전국 아파트 매매, 4개월 연속 월 4만건 넘어',\n",
       "  <span class=\"info_cp\">연합뉴스</span>,\n",
       "  'https://v.daum.net/v/20240812090740451',\n",
       "  nan],\n",
       " ['2024-08-12 09:18:15',\n",
       "  '광주 다문화 산모에 친정 국가 돌보미 지원한다',\n",
       "  <span class=\"info_cp\">헤럴드경제</span>,\n",
       "  'https://v.daum.net/v/20240812090640415',\n",
       "  nan]]"
      ]
     },
     "execution_count": 3,
     "metadata": {},
     "output_type": "execute_result"
    }
   ],
   "source": [
    "total_row = []\n",
    "# 이미지 포함 뉴스\n",
    "for i in range(6):\n",
    "    div_tag = soup.select('div.item_column')[i]\n",
    "    img_url = div_tag.select_one('img')['src']  # 뉴스 이미지 주소\n",
    "    a_tag = div_tag.select_one('div.cont_thumb a')\n",
    "    span_tag = div_tag.select_one('span span')\n",
    "    title = a_tag.get_text()  # 뉴스 제목\n",
    "    link = a_tag['href']  # 뉴스 주소\n",
    "    company = span_tag.get_text()  # 언론사\n",
    "\n",
    "    total_row.append([now, title, company, link, img_url])\n",
    "\n",
    "# 이미지 미포함 뉴스\n",
    "ul_tag = soup.select_one('ul.list_newsmajor')\n",
    "li_tags = ul_tag.select('li')\n",
    "for li_tag in li_tags:\n",
    "    company = li_tag.select_one('span')\n",
    "    title = li_tag.select_one('a').get_text()\n",
    "    link = li_tag.select_one('a')['href']\n",
    "\n",
    "    total_row.append([now, title, company, link, np.nan])\n",
    "\n",
    "total_row"
   ]
  },
  {
   "cell_type": "markdown",
   "id": "8948ac16-70f0-4c32-b460-3e0dd10769f7",
   "metadata": {},
   "source": [
    "## 이미지 저장"
   ]
  },
  {
   "cell_type": "code",
   "execution_count": 4,
   "id": "80b17730-91fd-472e-a350-13471d7606e8",
   "metadata": {},
   "outputs": [],
   "source": [
    "img_urls = []\n",
    "for i in range(len(total_row[:6])):\n",
    "    img_urls.append(total_row[i][4])"
   ]
  },
  {
   "cell_type": "code",
   "execution_count": 5,
   "id": "462e910d-4ba8-4869-923d-31be96f397d5",
   "metadata": {},
   "outputs": [],
   "source": [
    "# 이미지 다운로드\n",
    "for i in range(len(img_urls)):\n",
    "    image_url = img_urls[i]\n",
    "    response = requests.get(image_url)\n",
    "    filename = 'NewsImages/image{}.jpg'.format(i)\n",
    "    \n",
    "    with open(filename, 'wb+') as f:\n",
    "        f.write(response.content)"
   ]
  },
  {
   "cell_type": "markdown",
   "id": "e1d90f58-d763-4e24-ba43-111b8dadc2cd",
   "metadata": {},
   "source": [
    "## 데이터 프레임 만들기"
   ]
  },
  {
   "cell_type": "code",
   "execution_count": 6,
   "id": "9d9ed5e0-8576-40d7-b17d-0f5c6a5a51f5",
   "metadata": {
    "scrolled": true
   },
   "outputs": [
    {
     "data": {
      "text/html": [
       "<div>\n",
       "<style scoped>\n",
       "    .dataframe tbody tr th:only-of-type {\n",
       "        vertical-align: middle;\n",
       "    }\n",
       "\n",
       "    .dataframe tbody tr th {\n",
       "        vertical-align: top;\n",
       "    }\n",
       "\n",
       "    .dataframe thead th {\n",
       "        text-align: right;\n",
       "    }\n",
       "</style>\n",
       "<table border=\"1\" class=\"dataframe\">\n",
       "  <thead>\n",
       "    <tr style=\"text-align: right;\">\n",
       "      <th></th>\n",
       "      <th>time</th>\n",
       "      <th>title</th>\n",
       "      <th>company</th>\n",
       "      <th>news_url</th>\n",
       "      <th>img_url</th>\n",
       "    </tr>\n",
       "  </thead>\n",
       "  <tbody>\n",
       "    <tr>\n",
       "      <th>0</th>\n",
       "      <td>2024-08-12 09:18:15</td>\n",
       "      <td>코스피, 美 경기 침체 불안 진정에 2600선 안착 시도</td>\n",
       "      <td>한국경제</td>\n",
       "      <td>https://v.daum.net/v/20240812091501680</td>\n",
       "      <td>https://img1.daumcdn.net/thumb/S224x140ht.u/?f...</td>\n",
       "    </tr>\n",
       "    <tr>\n",
       "      <th>1</th>\n",
       "      <td>2024-08-12 09:18:15</td>\n",
       "      <td>[자막뉴스] 청주시, 고물가 잡는 '착한가격업소' 2배 늘린다</td>\n",
       "      <td>CJB청주방송</td>\n",
       "      <td>https://v.daum.net/v/20240812091355642</td>\n",
       "      <td>https://img1.daumcdn.net/thumb/S224x140ht.u/?f...</td>\n",
       "    </tr>\n",
       "    <tr>\n",
       "      <th>2</th>\n",
       "      <td>2024-08-12 09:18:15</td>\n",
       "      <td>'2025 올해의 차' 전반기 심사, 10개 브랜드 18대 통과</td>\n",
       "      <td>머니투데이</td>\n",
       "      <td>https://v.daum.net/v/20240812091353641</td>\n",
       "      <td>https://img1.daumcdn.net/thumb/S224x140ht.u/?f...</td>\n",
       "    </tr>\n",
       "    <tr>\n",
       "      <th>3</th>\n",
       "      <td>2024-08-12 09:18:15</td>\n",
       "      <td>코스피, 외인 매수세에 0.76% 오른 2600선</td>\n",
       "      <td>조선비즈</td>\n",
       "      <td>https://v.daum.net/v/20240812091303616</td>\n",
       "      <td>https://img1.daumcdn.net/thumb/S224x140ht.u/?f...</td>\n",
       "    </tr>\n",
       "    <tr>\n",
       "      <th>4</th>\n",
       "      <td>2024-08-12 09:18:15</td>\n",
       "      <td>'티메프' 피해 업체 유치 나섰다…토종 이커머스, '착한기업' 알리고, 수수료 면제까지</td>\n",
       "      <td>MBN</td>\n",
       "      <td>https://v.daum.net/v/20240812091217587</td>\n",
       "      <td>https://img1.daumcdn.net/thumb/S224x140ht.u/?f...</td>\n",
       "    </tr>\n",
       "  </tbody>\n",
       "</table>\n",
       "</div>"
      ],
      "text/plain": [
       "                  time                                             title  \\\n",
       "0  2024-08-12 09:18:15                   코스피, 美 경기 침체 불안 진정에 2600선 안착 시도   \n",
       "1  2024-08-12 09:18:15                [자막뉴스] 청주시, 고물가 잡는 '착한가격업소' 2배 늘린다   \n",
       "2  2024-08-12 09:18:15               '2025 올해의 차' 전반기 심사, 10개 브랜드 18대 통과   \n",
       "3  2024-08-12 09:18:15                       코스피, 외인 매수세에 0.76% 오른 2600선   \n",
       "4  2024-08-12 09:18:15  '티메프' 피해 업체 유치 나섰다…토종 이커머스, '착한기업' 알리고, 수수료 면제까지   \n",
       "\n",
       "   company                                news_url  \\\n",
       "0     한국경제  https://v.daum.net/v/20240812091501680   \n",
       "1  CJB청주방송  https://v.daum.net/v/20240812091355642   \n",
       "2    머니투데이  https://v.daum.net/v/20240812091353641   \n",
       "3     조선비즈  https://v.daum.net/v/20240812091303616   \n",
       "4      MBN  https://v.daum.net/v/20240812091217587   \n",
       "\n",
       "                                             img_url  \n",
       "0  https://img1.daumcdn.net/thumb/S224x140ht.u/?f...  \n",
       "1  https://img1.daumcdn.net/thumb/S224x140ht.u/?f...  \n",
       "2  https://img1.daumcdn.net/thumb/S224x140ht.u/?f...  \n",
       "3  https://img1.daumcdn.net/thumb/S224x140ht.u/?f...  \n",
       "4  https://img1.daumcdn.net/thumb/S224x140ht.u/?f...  "
      ]
     },
     "execution_count": 6,
     "metadata": {},
     "output_type": "execute_result"
    }
   ],
   "source": [
    "news_df = pd.DataFrame(total_row, columns=[\"time\", \"title\", \"company\", \"news_url\", \"img_url\"])\n",
    "news_df.head()"
   ]
  }
 ],
 "metadata": {
  "kernelspec": {
   "display_name": "Python 3 (ipykernel)",
   "language": "python",
   "name": "python3"
  },
  "language_info": {
   "codemirror_mode": {
    "name": "ipython",
    "version": 3
   },
   "file_extension": ".py",
   "mimetype": "text/x-python",
   "name": "python",
   "nbconvert_exporter": "python",
   "pygments_lexer": "ipython3",
   "version": "3.11.7"
  }
 },
 "nbformat": 4,
 "nbformat_minor": 5
}
