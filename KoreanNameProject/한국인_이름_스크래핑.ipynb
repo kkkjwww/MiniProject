{
 "cells": [
  {
   "cell_type": "markdown",
   "id": "7bf802d1-bcb6-4be8-8335-02649c0ccf79",
   "metadata": {},
   "source": [
    "## 모듈 임포트"
   ]
  },
  {
   "cell_type": "code",
   "execution_count": 1,
   "id": "62444307-7625-4007-84b6-f4943fb38680",
   "metadata": {},
   "outputs": [],
   "source": [
    "from bs4 import BeautifulSoup\n",
    "import requests\n",
    "\n",
    "import pandas as pd\n",
    "\n",
    "import matplotlib.pyplot as plt\n",
    "plt.rc('font', family='Malgun Gothic')"
   ]
  },
  {
   "cell_type": "markdown",
   "id": "08247c56-1be9-4c8a-8eb1-2e5953852bba",
   "metadata": {},
   "source": [
    "## 스크래핑 함수 작성"
   ]
  },
  {
   "cell_type": "code",
   "execution_count": 2,
   "id": "ad1cf72a-1857-4975-a25e-eed517aede21",
   "metadata": {},
   "outputs": [],
   "source": [
    "def get_name_data_from_web(gender='m'):\n",
    "    '''\n",
    "    This function scraps Korean name statistics data on the web.\n",
    "    Gender options should be chosen between 'm' and 'f'.\n",
    "    Default gender option is 'm'.\n",
    "    '''\n",
    "    total_row = []\n",
    "    for year in range(2008, 2025):\n",
    "        url = f'https://www.namechart.kr/chart/{year}?gender={gender}'\n",
    "        name_page = requests.get(url)\n",
    "    \n",
    "        soup = BeautifulSoup(name_page.text, 'html.parser')\n",
    "        \n",
    "        for i in range(2):\n",
    "            tr_tags = soup.select('tbody')[i].select('tr')\n",
    "            \n",
    "            for tr_tag in tr_tags:\n",
    "                td_tags = tr_tag.select('td')\n",
    "                \n",
    "                rank = td_tags[0].select_one('div p').get_text().split(\" \")[1]\n",
    "                name = td_tags[1].select_one('span').get_text()\n",
    "                count = td_tags[2].select_one('p').get_text().replace(\",\", \"\")\n",
    "        \n",
    "                total_row.append([year, rank, name, count])\n",
    "        print(f'{year} {gender} data complete')\n",
    "    \n",
    "    return total_row"
   ]
  },
  {
   "cell_type": "markdown",
   "id": "5dc832c8-141e-4a75-8750-3d8fc3911483",
   "metadata": {},
   "source": [
    "## 남자 이름 데이터 스크래핑"
   ]
  },
  {
   "cell_type": "code",
   "execution_count": 3,
   "id": "740036eb-af78-46a4-81a9-7d763dd5c3a2",
   "metadata": {
    "scrolled": true
   },
   "outputs": [
    {
     "name": "stdin",
     "output_type": "stream",
     "text": [
      "Press 1 to execute the function (Press 0 to exit) 1\n"
     ]
    },
    {
     "name": "stdout",
     "output_type": "stream",
     "text": [
      "2008 m data complete\n",
      "2009 m data complete\n",
      "2010 m data complete\n",
      "2011 m data complete\n",
      "2012 m data complete\n",
      "2013 m data complete\n",
      "2014 m data complete\n",
      "2015 m data complete\n",
      "2016 m data complete\n",
      "2017 m data complete\n",
      "2018 m data complete\n",
      "2019 m data complete\n",
      "2020 m data complete\n",
      "2021 m data complete\n",
      "2022 m data complete\n",
      "2023 m data complete\n",
      "2024 m data complete\n"
     ]
    }
   ],
   "source": [
    "user_ipt = input(\"Press 1 to execute the function (Press 0 to exit)\")\n",
    "if user_ipt == \"1\":    \n",
    "    total_row_m = get_name_data_from_web()\n",
    "elif user_ipt == \"0\":\n",
    "    print(\"function execute pass\")\n",
    "else:\n",
    "    print(\"Incorrect input. Check your input\")"
   ]
  },
  {
   "cell_type": "code",
   "execution_count": 4,
   "id": "af6f9af5-b3ac-46f9-9c5f-6ecd101d9fae",
   "metadata": {},
   "outputs": [
    {
     "name": "stdout",
     "output_type": "stream",
     "text": [
      "(850, 4)\n"
     ]
    },
    {
     "data": {
      "text/html": [
       "<div>\n",
       "<style scoped>\n",
       "    .dataframe tbody tr th:only-of-type {\n",
       "        vertical-align: middle;\n",
       "    }\n",
       "\n",
       "    .dataframe tbody tr th {\n",
       "        vertical-align: top;\n",
       "    }\n",
       "\n",
       "    .dataframe thead th {\n",
       "        text-align: right;\n",
       "    }\n",
       "</style>\n",
       "<table border=\"1\" class=\"dataframe\">\n",
       "  <thead>\n",
       "    <tr style=\"text-align: right;\">\n",
       "      <th></th>\n",
       "      <th>year</th>\n",
       "      <th>rank</th>\n",
       "      <th>name</th>\n",
       "      <th>count</th>\n",
       "    </tr>\n",
       "  </thead>\n",
       "  <tbody>\n",
       "    <tr>\n",
       "      <th>0</th>\n",
       "      <td>2008</td>\n",
       "      <td>1</td>\n",
       "      <td>민준</td>\n",
       "      <td>2656</td>\n",
       "    </tr>\n",
       "    <tr>\n",
       "      <th>1</th>\n",
       "      <td>2008</td>\n",
       "      <td>2</td>\n",
       "      <td>지훈</td>\n",
       "      <td>2191</td>\n",
       "    </tr>\n",
       "    <tr>\n",
       "      <th>2</th>\n",
       "      <td>2008</td>\n",
       "      <td>3</td>\n",
       "      <td>현우</td>\n",
       "      <td>1947</td>\n",
       "    </tr>\n",
       "    <tr>\n",
       "      <th>3</th>\n",
       "      <td>2008</td>\n",
       "      <td>4</td>\n",
       "      <td>준서</td>\n",
       "      <td>1905</td>\n",
       "    </tr>\n",
       "    <tr>\n",
       "      <th>4</th>\n",
       "      <td>2008</td>\n",
       "      <td>5</td>\n",
       "      <td>우진</td>\n",
       "      <td>1827</td>\n",
       "    </tr>\n",
       "  </tbody>\n",
       "</table>\n",
       "</div>"
      ],
      "text/plain": [
       "   year rank name count\n",
       "0  2008    1   민준  2656\n",
       "1  2008    2   지훈  2191\n",
       "2  2008    3   현우  1947\n",
       "3  2008    4   준서  1905\n",
       "4  2008    5   우진  1827"
      ]
     },
     "execution_count": 4,
     "metadata": {},
     "output_type": "execute_result"
    }
   ],
   "source": [
    "df_m = pd.DataFrame(total_row_m, columns=['year', 'rank', 'name', 'count'])\n",
    "\n",
    "print(df_m.shape)\n",
    "df_m.head()"
   ]
  },
  {
   "cell_type": "code",
   "execution_count": 5,
   "id": "a5735558-463d-4f41-87e6-becfb20e102d",
   "metadata": {},
   "outputs": [],
   "source": [
    "df_m.to_excel(\"DATA/2008_2024_Korean_male_name.xlsx\", index=False)"
   ]
  },
  {
   "cell_type": "markdown",
   "id": "b1fa9e0f-d6c5-4f10-b940-27cc6fd6d04d",
   "metadata": {},
   "source": [
    "## 여자 이름 데이터 스크래핑"
   ]
  },
  {
   "cell_type": "code",
   "execution_count": 6,
   "id": "a0473d3a-c5db-4ae6-9481-1fe640962f17",
   "metadata": {},
   "outputs": [
    {
     "name": "stdin",
     "output_type": "stream",
     "text": [
      "Press 1 to execute the function (Press 0 to exit) 1\n"
     ]
    },
    {
     "name": "stdout",
     "output_type": "stream",
     "text": [
      "2008 f data complete\n",
      "2009 f data complete\n",
      "2010 f data complete\n",
      "2011 f data complete\n",
      "2012 f data complete\n",
      "2013 f data complete\n",
      "2014 f data complete\n",
      "2015 f data complete\n",
      "2016 f data complete\n",
      "2017 f data complete\n",
      "2018 f data complete\n",
      "2019 f data complete\n",
      "2020 f data complete\n",
      "2021 f data complete\n",
      "2022 f data complete\n",
      "2023 f data complete\n",
      "2024 f data complete\n"
     ]
    }
   ],
   "source": [
    "user_ipt = input(\"Press 1 to execute the function (Press 0 to exit)\")\n",
    "if user_ipt == \"1\":    \n",
    "    total_row_f = get_name_data_from_web('f')\n",
    "elif user_ipt == \"0\":\n",
    "    print(\"function execute pass\")\n",
    "else:\n",
    "    print(\"Incorrect input. Check your input\")"
   ]
  },
  {
   "cell_type": "code",
   "execution_count": 7,
   "id": "edac9739-eb8f-46be-bfa8-a0545a24858e",
   "metadata": {},
   "outputs": [
    {
     "name": "stdout",
     "output_type": "stream",
     "text": [
      "(850, 4)\n"
     ]
    },
    {
     "data": {
      "text/html": [
       "<div>\n",
       "<style scoped>\n",
       "    .dataframe tbody tr th:only-of-type {\n",
       "        vertical-align: middle;\n",
       "    }\n",
       "\n",
       "    .dataframe tbody tr th {\n",
       "        vertical-align: top;\n",
       "    }\n",
       "\n",
       "    .dataframe thead th {\n",
       "        text-align: right;\n",
       "    }\n",
       "</style>\n",
       "<table border=\"1\" class=\"dataframe\">\n",
       "  <thead>\n",
       "    <tr style=\"text-align: right;\">\n",
       "      <th></th>\n",
       "      <th>year</th>\n",
       "      <th>rank</th>\n",
       "      <th>name</th>\n",
       "      <th>count</th>\n",
       "    </tr>\n",
       "  </thead>\n",
       "  <tbody>\n",
       "    <tr>\n",
       "      <th>0</th>\n",
       "      <td>2008</td>\n",
       "      <td>1</td>\n",
       "      <td>서연</td>\n",
       "      <td>3316</td>\n",
       "    </tr>\n",
       "    <tr>\n",
       "      <th>1</th>\n",
       "      <td>2008</td>\n",
       "      <td>2</td>\n",
       "      <td>민서</td>\n",
       "      <td>2892</td>\n",
       "    </tr>\n",
       "    <tr>\n",
       "      <th>2</th>\n",
       "      <td>2008</td>\n",
       "      <td>3</td>\n",
       "      <td>지민</td>\n",
       "      <td>2844</td>\n",
       "    </tr>\n",
       "    <tr>\n",
       "      <th>3</th>\n",
       "      <td>2008</td>\n",
       "      <td>4</td>\n",
       "      <td>서현</td>\n",
       "      <td>2645</td>\n",
       "    </tr>\n",
       "    <tr>\n",
       "      <th>4</th>\n",
       "      <td>2008</td>\n",
       "      <td>5</td>\n",
       "      <td>서윤</td>\n",
       "      <td>2505</td>\n",
       "    </tr>\n",
       "  </tbody>\n",
       "</table>\n",
       "</div>"
      ],
      "text/plain": [
       "   year rank name count\n",
       "0  2008    1   서연  3316\n",
       "1  2008    2   민서  2892\n",
       "2  2008    3   지민  2844\n",
       "3  2008    4   서현  2645\n",
       "4  2008    5   서윤  2505"
      ]
     },
     "execution_count": 7,
     "metadata": {},
     "output_type": "execute_result"
    }
   ],
   "source": [
    "df_f = pd.DataFrame(total_row_f, columns=['year', 'rank', 'name', 'count'])\n",
    "\n",
    "print(df_f.shape)\n",
    "df_f.head()"
   ]
  },
  {
   "cell_type": "code",
   "execution_count": 8,
   "id": "201238d8-fbf6-4b65-90df-6a5816d2a99b",
   "metadata": {},
   "outputs": [],
   "source": [
    "df_f.to_excel(\"DATA/2008_2024_Korean_female_name.xlsx\", index=False)"
   ]
  },
  {
   "cell_type": "code",
   "execution_count": 9,
   "id": "54d99abb-e7cc-4d39-bd36-721c146c0904",
   "metadata": {},
   "outputs": [],
   "source": [
    "df_m = pd.read_excel(\"DATA/2008_2024_Korean_male_name.xlsx\")"
   ]
  },
  {
   "cell_type": "markdown",
   "id": "72cb7d4d-18ba-40b7-91de-ca18dac04e39",
   "metadata": {},
   "source": [
    "## 이름 '준우'의 count 변화 추이"
   ]
  },
  {
   "cell_type": "code",
   "execution_count": 10,
   "id": "357c6169-645b-4186-99ea-bf81132e9d98",
   "metadata": {},
   "outputs": [
    {
     "data": {
      "image/png": "[encoded data removed]",
      "text/plain": [
       "<Figure size 640x480 with 1 Axes>"
      ]
     },
     "metadata": {},
     "output_type": "display_data"
    }
   ],
   "source": [
    "plt.plot(df_m.loc[df_m['name'] == '준우', ['year','count']].set_index('year'), marker='o', ms=3, color='green', label=\"Junwoo\")\n",
    "plt.legend()\n",
    "plt.ylabel(\"count\")\n",
    "plt.title(\"<Changes in the Number of Births with the Name of 'Junwoo' by Year>\")\n",
    "plt.tight_layout()\n",
    "plt.show()"
   ]
  },
  {
   "cell_type": "code",
   "execution_count": null,
   "id": "2d13dee1-b761-4386-85bb-c180cd71802e",
   "metadata": {},
   "outputs": [],
   "source": []
  }
 ],
 "metadata": {
  "kernelspec": {
   "display_name": "Python 3 (ipykernel)",
   "language": "python",
   "name": "python3"
  },
  "language_info": {
   "codemirror_mode": {
    "name": "ipython",
    "version": 3
   },
   "file_extension": ".py",
   "mimetype": "text/x-python",
   "name": "python",
   "nbconvert_exporter": "python",
   "pygments_lexer": "ipython3",
   "version": "3.11.7"
  }
 },
 "nbformat": 4,
 "nbformat_minor": 5
}
