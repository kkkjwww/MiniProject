{
 "cells": [
  {
   "cell_type": "code",
   "execution_count": 1,
   "id": "e08173e9-84ea-4175-8fa5-d9aa05dd5ece",
   "metadata": {},
   "outputs": [],
   "source": [
    "import pymongo\n",
    "import pandas as pd"
   ]
  },
  {
   "cell_type": "code",
   "execution_count": 2,
   "id": "0aa10a79-b262-425b-80d9-cd6592971de5",
   "metadata": {},
   "outputs": [],
   "source": [
    "# mongo db에 데이터 삽입 함수 생성\n",
    "def insert_df_2_collection(df, collection):\n",
    "    collection.insert_many(df.to_dict('records'))"
   ]
  },
  {
   "cell_type": "code",
   "execution_count": 3,
   "id": "556ee82b-7624-4a13-9b2e-fa39f8905781",
   "metadata": {},
   "outputs": [],
   "source": [
    "client =  pymongo.MongoClient(\"mongodb://localhost:27017/\")\n",
    "db = client[\"testDB\"]\n",
    "collection = db[\"melon\"]"
   ]
  },
  {
   "cell_type": "code",
   "execution_count": 4,
   "id": "b597016b-94e7-4131-90fe-bd159a65c70b",
   "metadata": {},
   "outputs": [],
   "source": [
    "melon_df = pd.read_excel(\"data/Melon_TOP100_20240705.xlsx\")\n",
    "\n",
    "# 기존의 collection에 데이터가 있을경우 삭제\n",
    "collection.delete_many({})\n",
    "\n",
    "# 새 df데이터를 collection에 삽입\n",
    "insert_df_2_collection(melon_df, collection)"
   ]
  },
  {
   "cell_type": "code",
   "execution_count": null,
   "id": "b6e1619b-9678-4f02-8931-afde8f7c1039",
   "metadata": {},
   "outputs": [],
   "source": []
  }
 ],
 "metadata": {
  "kernelspec": {
   "display_name": "Python 3 (ipykernel)",
   "language": "python",
   "name": "python3"
  },
  "language_info": {
   "codemirror_mode": {
    "name": "ipython",
    "version": 3
   },
   "file_extension": ".py",
   "mimetype": "text/x-python",
   "name": "python",
   "nbconvert_exporter": "python",
   "pygments_lexer": "ipython3",
   "version": "3.11.7"
  }
 },
 "nbformat": 4,
 "nbformat_minor": 5
}
