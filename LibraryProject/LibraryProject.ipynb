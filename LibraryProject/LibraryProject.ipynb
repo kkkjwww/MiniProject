{
 "cells": [
  {
   "cell_type": "markdown",
   "id": "9f2085f0-fab9-4811-b932-971d1b254cc3",
   "metadata": {},
   "source": [
    "## 모듈 임포트"
   ]
  },
  {
   "cell_type": "code",
   "execution_count": 1,
   "id": "64bd5e7e-f5de-4e53-abec-427d6bc76167",
   "metadata": {},
   "outputs": [],
   "source": [
    "import pandas as pd\n",
    "import numpy as np\n",
    "\n",
    "import seaborn as sns\n",
    "import matplotlib.pyplot as plt\n",
    "from matplotlib.ticker import FuncFormatter\n",
    "\n",
    "from sklearn.cluster import KMeans\n",
    "\n",
    "plt.rc('font', family='Malgun Gothic')"
   ]
  },
  {
   "cell_type": "code",
   "execution_count": 2,
   "id": "09de7bea-d7f1-46d8-bc51-53aa6edf3932",
   "metadata": {},
   "outputs": [
    {
     "name": "stdout",
     "output_type": "stream",
     "text": [
      "succeed\n",
      "succeed\n",
      "succeed\n",
      "succeed\n",
      "succeed\n",
      "succeed\n",
      "succeed\n",
      "succeed\n",
      "succeed\n",
      "succeed\n",
      "succeed\n",
      "succeed\n"
     ]
    }
   ],
   "source": [
    "df_list = []\n",
    "\n",
    "for i in range(1, 13):\n",
    "    file_path = f\"DATA/대구광역시립동부도서관 장서 대출목록 (2023년 {i:02d}월).csv\"\n",
    "    df = pd.read_csv(file_path, encoding='cp949', low_memory=False)\n",
    "    df['집계월'] = i\n",
    "    df_list.append(df)\n",
    "    print(\"succeed\")\n",
    "\n",
    "df_origin = pd.concat(df_list, ignore_index=True)"
   ]
  },
  {
   "cell_type": "code",
   "execution_count": 3,
   "id": "ca707d1b-b647-4642-b1b4-3b8662e207bc",
   "metadata": {},
   "outputs": [],
   "source": [
    "df = df_origin.copy()"
   ]
  },
  {
   "cell_type": "code",
   "execution_count": 4,
   "id": "4f8e2c8c-6670-4d84-aa8b-73d5d2a2f1c5",
   "metadata": {},
   "outputs": [
    {
     "data": {
      "text/html": [
       "<div>\n",
       "<style scoped>\n",
       "    .dataframe tbody tr th:only-of-type {\n",
       "        vertical-align: middle;\n",
       "    }\n",
       "\n",
       "    .dataframe tbody tr th {\n",
       "        vertical-align: top;\n",
       "    }\n",
       "\n",
       "    .dataframe thead th {\n",
       "        text-align: right;\n",
       "    }\n",
       "</style>\n",
       "<table border=\"1\" class=\"dataframe\">\n",
       "  <thead>\n",
       "    <tr style=\"text-align: right;\">\n",
       "      <th></th>\n",
       "      <th>번호</th>\n",
       "      <th>도서명</th>\n",
       "      <th>저자</th>\n",
       "      <th>출판사</th>\n",
       "      <th>발행년도</th>\n",
       "      <th>ISBN</th>\n",
       "      <th>세트 ISBN</th>\n",
       "      <th>부가기호</th>\n",
       "      <th>권</th>\n",
       "      <th>주제분류번호</th>\n",
       "      <th>도서권수</th>\n",
       "      <th>대출건수</th>\n",
       "      <th>등록일자</th>\n",
       "      <th>Unnamed: 13</th>\n",
       "      <th>집계월</th>\n",
       "    </tr>\n",
       "  </thead>\n",
       "  <tbody>\n",
       "    <tr>\n",
       "      <th>0</th>\n",
       "      <td>1</td>\n",
       "      <td>(지랄발랄 하은맘의) 닥치고 군대 육아:산전수전 다 겪은 언니의 육아 멘토링</td>\n",
       "      <td>김선미 지음</td>\n",
       "      <td>알에이치코리아(RHK)</td>\n",
       "      <td>2023</td>\n",
       "      <td>9788925577203</td>\n",
       "      <td>NaN</td>\n",
       "      <td>1</td>\n",
       "      <td>NaN</td>\n",
       "      <td>598.1</td>\n",
       "      <td>1</td>\n",
       "      <td>0</td>\n",
       "      <td>2023-01-30</td>\n",
       "      <td>NaN</td>\n",
       "      <td>1</td>\n",
       "    </tr>\n",
       "    <tr>\n",
       "      <th>1</th>\n",
       "      <td>2</td>\n",
       "      <td>백제 최후의 날:박상기 장편동화</td>\n",
       "      <td>박상기 글;송효정 그림</td>\n",
       "      <td>비룡소</td>\n",
       "      <td>2022</td>\n",
       "      <td>9788949121987</td>\n",
       "      <td>NaN</td>\n",
       "      <td>7</td>\n",
       "      <td>NaN</td>\n",
       "      <td>813.8</td>\n",
       "      <td>1</td>\n",
       "      <td>0</td>\n",
       "      <td>2023-01-30</td>\n",
       "      <td>NaN</td>\n",
       "      <td>1</td>\n",
       "    </tr>\n",
       "    <tr>\n",
       "      <th>2</th>\n",
       "      <td>3</td>\n",
       "      <td>수상한 아랫집의 비밀</td>\n",
       "      <td>딸기 글;시미씨 그림</td>\n",
       "      <td>해와나무</td>\n",
       "      <td>2022</td>\n",
       "      <td>9788962682878</td>\n",
       "      <td>NaN</td>\n",
       "      <td>7</td>\n",
       "      <td>NaN</td>\n",
       "      <td>813.8</td>\n",
       "      <td>1</td>\n",
       "      <td>0</td>\n",
       "      <td>2023-01-30</td>\n",
       "      <td>NaN</td>\n",
       "      <td>1</td>\n",
       "    </tr>\n",
       "    <tr>\n",
       "      <th>3</th>\n",
       "      <td>4</td>\n",
       "      <td>(소원을 들어주는) 미호네.</td>\n",
       "      <td>글: 이나영;그림: 윤성</td>\n",
       "      <td>겜툰</td>\n",
       "      <td>2022</td>\n",
       "      <td>9791168440470</td>\n",
       "      <td>NaN</td>\n",
       "      <td>7</td>\n",
       "      <td>6</td>\n",
       "      <td>813.8</td>\n",
       "      <td>1</td>\n",
       "      <td>0</td>\n",
       "      <td>2023-01-30</td>\n",
       "      <td>NaN</td>\n",
       "      <td>1</td>\n",
       "    </tr>\n",
       "    <tr>\n",
       "      <th>4</th>\n",
       "      <td>5</td>\n",
       "      <td>우리 반 방정환:어린이의 벗 방정환, 가족을 만나다!</td>\n",
       "      <td>장경선 글; 원유미 그림</td>\n",
       "      <td>리틀씨앤톡</td>\n",
       "      <td>2022</td>\n",
       "      <td>9788960988675</td>\n",
       "      <td>NaN</td>\n",
       "      <td>7</td>\n",
       "      <td>NaN</td>\n",
       "      <td>813.8</td>\n",
       "      <td>1</td>\n",
       "      <td>0</td>\n",
       "      <td>2023-01-30</td>\n",
       "      <td>NaN</td>\n",
       "      <td>1</td>\n",
       "    </tr>\n",
       "  </tbody>\n",
       "</table>\n",
       "</div>"
      ],
      "text/plain": [
       "   번호                                         도서명             저자  \\\n",
       "0   1  (지랄발랄 하은맘의) 닥치고 군대 육아:산전수전 다 겪은 언니의 육아 멘토링         김선미 지음   \n",
       "1   2                           백제 최후의 날:박상기 장편동화   박상기 글;송효정 그림   \n",
       "2   3                                 수상한 아랫집의 비밀    딸기 글;시미씨 그림   \n",
       "3   4                             (소원을 들어주는) 미호네.  글: 이나영;그림: 윤성   \n",
       "4   5               우리 반 방정환:어린이의 벗 방정환, 가족을 만나다!  장경선 글; 원유미 그림   \n",
       "\n",
       "            출판사  발행년도           ISBN  세트 ISBN 부가기호    권 주제분류번호  도서권수  대출건수  \\\n",
       "0  알에이치코리아(RHK)  2023  9788925577203      NaN    1  NaN  598.1     1     0   \n",
       "1           비룡소  2022  9788949121987      NaN    7  NaN  813.8     1     0   \n",
       "2          해와나무  2022  9788962682878      NaN    7  NaN  813.8     1     0   \n",
       "3            겜툰  2022  9791168440470      NaN    7    6  813.8     1     0   \n",
       "4         리틀씨앤톡  2022  9788960988675      NaN    7  NaN  813.8     1     0   \n",
       "\n",
       "         등록일자  Unnamed: 13  집계월  \n",
       "0  2023-01-30          NaN    1  \n",
       "1  2023-01-30          NaN    1  \n",
       "2  2023-01-30          NaN    1  \n",
       "3  2023-01-30          NaN    1  \n",
       "4  2023-01-30          NaN    1  "
      ]
     },
     "execution_count": 4,
     "metadata": {},
     "output_type": "execute_result"
    }
   ],
   "source": [
    "df.head()"
   ]
  },
  {
   "cell_type": "code",
   "execution_count": 5,
   "id": "f8213edc-23ad-49c1-b6eb-a4142347b9a0",
   "metadata": {},
   "outputs": [
    {
     "data": {
      "text/plain": [
       "Index(['번호', '도서명', '저자', '출판사', '발행년도', 'ISBN', '세트 ISBN', '부가기호', '권',\n",
       "       '주제분류번호', '도서권수', '대출건수', '등록일자', 'Unnamed: 13', '집계월'],\n",
       "      dtype='object')"
      ]
     },
     "execution_count": 5,
     "metadata": {},
     "output_type": "execute_result"
    }
   ],
   "source": [
    "df.columns"
   ]
  },
  {
   "cell_type": "code",
   "execution_count": 6,
   "id": "f96e2ee6-9208-4e02-a961-9c6058b3aab2",
   "metadata": {},
   "outputs": [
    {
     "data": {
      "text/plain": [
       "(3717961, 15)"
      ]
     },
     "execution_count": 6,
     "metadata": {},
     "output_type": "execute_result"
    }
   ],
   "source": [
    "df.shape"
   ]
  },
  {
   "cell_type": "code",
   "execution_count": 7,
   "id": "443ff065-6dc6-4108-a2d6-eb2da3f52077",
   "metadata": {},
   "outputs": [
    {
     "data": {
      "text/html": [
       "<div>\n",
       "<style scoped>\n",
       "    .dataframe tbody tr th:only-of-type {\n",
       "        vertical-align: middle;\n",
       "    }\n",
       "\n",
       "    .dataframe tbody tr th {\n",
       "        vertical-align: top;\n",
       "    }\n",
       "\n",
       "    .dataframe thead th {\n",
       "        text-align: right;\n",
       "    }\n",
       "</style>\n",
       "<table border=\"1\" class=\"dataframe\">\n",
       "  <thead>\n",
       "    <tr style=\"text-align: right;\">\n",
       "      <th></th>\n",
       "      <th>집계월</th>\n",
       "      <th>도서명</th>\n",
       "      <th>저자</th>\n",
       "      <th>출판사</th>\n",
       "      <th>발행년도</th>\n",
       "      <th>주제분류번호</th>\n",
       "      <th>도서권수</th>\n",
       "      <th>대출건수</th>\n",
       "      <th>등록일자</th>\n",
       "    </tr>\n",
       "  </thead>\n",
       "  <tbody>\n",
       "    <tr>\n",
       "      <th>0</th>\n",
       "      <td>1</td>\n",
       "      <td>(지랄발랄 하은맘의) 닥치고 군대 육아:산전수전 다 겪은 언니의 육아 멘토링</td>\n",
       "      <td>김선미 지음</td>\n",
       "      <td>알에이치코리아(RHK)</td>\n",
       "      <td>2023</td>\n",
       "      <td>598.1</td>\n",
       "      <td>1</td>\n",
       "      <td>0</td>\n",
       "      <td>2023-01-30</td>\n",
       "    </tr>\n",
       "    <tr>\n",
       "      <th>1</th>\n",
       "      <td>1</td>\n",
       "      <td>백제 최후의 날:박상기 장편동화</td>\n",
       "      <td>박상기 글;송효정 그림</td>\n",
       "      <td>비룡소</td>\n",
       "      <td>2022</td>\n",
       "      <td>813.8</td>\n",
       "      <td>1</td>\n",
       "      <td>0</td>\n",
       "      <td>2023-01-30</td>\n",
       "    </tr>\n",
       "    <tr>\n",
       "      <th>2</th>\n",
       "      <td>1</td>\n",
       "      <td>수상한 아랫집의 비밀</td>\n",
       "      <td>딸기 글;시미씨 그림</td>\n",
       "      <td>해와나무</td>\n",
       "      <td>2022</td>\n",
       "      <td>813.8</td>\n",
       "      <td>1</td>\n",
       "      <td>0</td>\n",
       "      <td>2023-01-30</td>\n",
       "    </tr>\n",
       "    <tr>\n",
       "      <th>3</th>\n",
       "      <td>1</td>\n",
       "      <td>(소원을 들어주는) 미호네.</td>\n",
       "      <td>글: 이나영;그림: 윤성</td>\n",
       "      <td>겜툰</td>\n",
       "      <td>2022</td>\n",
       "      <td>813.8</td>\n",
       "      <td>1</td>\n",
       "      <td>0</td>\n",
       "      <td>2023-01-30</td>\n",
       "    </tr>\n",
       "    <tr>\n",
       "      <th>4</th>\n",
       "      <td>1</td>\n",
       "      <td>우리 반 방정환:어린이의 벗 방정환, 가족을 만나다!</td>\n",
       "      <td>장경선 글; 원유미 그림</td>\n",
       "      <td>리틀씨앤톡</td>\n",
       "      <td>2022</td>\n",
       "      <td>813.8</td>\n",
       "      <td>1</td>\n",
       "      <td>0</td>\n",
       "      <td>2023-01-30</td>\n",
       "    </tr>\n",
       "  </tbody>\n",
       "</table>\n",
       "</div>"
      ],
      "text/plain": [
       "   집계월                                         도서명             저자  \\\n",
       "0    1  (지랄발랄 하은맘의) 닥치고 군대 육아:산전수전 다 겪은 언니의 육아 멘토링         김선미 지음   \n",
       "1    1                           백제 최후의 날:박상기 장편동화   박상기 글;송효정 그림   \n",
       "2    1                                 수상한 아랫집의 비밀    딸기 글;시미씨 그림   \n",
       "3    1                             (소원을 들어주는) 미호네.  글: 이나영;그림: 윤성   \n",
       "4    1               우리 반 방정환:어린이의 벗 방정환, 가족을 만나다!  장경선 글; 원유미 그림   \n",
       "\n",
       "            출판사  발행년도 주제분류번호  도서권수  대출건수        등록일자  \n",
       "0  알에이치코리아(RHK)  2023  598.1     1     0  2023-01-30  \n",
       "1           비룡소  2022  813.8     1     0  2023-01-30  \n",
       "2          해와나무  2022  813.8     1     0  2023-01-30  \n",
       "3            겜툰  2022  813.8     1     0  2023-01-30  \n",
       "4         리틀씨앤톡  2022  813.8     1     0  2023-01-30  "
      ]
     },
     "execution_count": 7,
     "metadata": {},
     "output_type": "execute_result"
    }
   ],
   "source": [
    "df = df[['집계월', '도서명', '저자', '출판사', '발행년도', '주제분류번호', '도서권수', '대출건수', '등록일자']]\n",
    "df.head()"
   ]
  },
  {
   "cell_type": "markdown",
   "id": "b60ee622-cef7-44ed-9816-e290f978191e",
   "metadata": {},
   "source": [
    "## 주제분류번호에 따른 대출건수로 알아보는 2023년 인기 주제"
   ]
  },
  {
   "cell_type": "code",
   "execution_count": 8,
   "id": "8c796330-0a04-4365-b82d-0e93a47450b7",
   "metadata": {},
   "outputs": [
    {
     "data": {
      "text/plain": [
       "주제분류번호\n",
       "813.6    9282848\n",
       "843      8927464\n",
       "813.8    7425515\n",
       "863      1864785\n",
       "818      1598887\n",
       "Name: 대출건수, dtype: int64"
      ]
     },
     "execution_count": 8,
     "metadata": {},
     "output_type": "execute_result"
    }
   ],
   "source": [
    "cat_pop = df.groupby('주제분류번호')['대출건수'].sum().sort_values(ascending=False)\n",
    "cat_pop.head()"
   ]
  },
  {
   "cell_type": "code",
   "execution_count": 9,
   "id": "955705e9-cf38-425a-886e-9e76c2b3cdbd",
   "metadata": {},
   "outputs": [],
   "source": [
    "# 대출건수 top5 주제별 대출건수 가장 많은 책 알아보기\n",
    "cat_pop_list = cat_pop.head().index.tolist()\n",
    "cat_pop_book_names = []\n",
    "\n",
    "for cat in cat_pop_list:\n",
    "    cat_pop_book_names.append(df.loc[df['주제분류번호'] == cat, ['도서명', '대출건수']].groupby('도서명')['대출건수'].sum().sort_values(ascending=False).index[0])"
   ]
  },
  {
   "cell_type": "code",
   "execution_count": 10,
   "id": "0f2af5bc-315e-41d3-b36b-37af6a9af62f",
   "metadata": {},
   "outputs": [
    {
     "data": {
      "text/plain": [
       "['太白山脈', 'Oxford Reading Tree:Stage 1+', '(동화)토지', '땡땡의 모험', '졸라맨 코믹스']"
      ]
     },
     "execution_count": 10,
     "metadata": {},
     "output_type": "execute_result"
    }
   ],
   "source": [
    "cat_pop_book_names"
   ]
  },
  {
   "cell_type": "markdown",
   "id": "9f145cc3-1644-45eb-b8dd-c447986fb6ed",
   "metadata": {},
   "source": [
    "#### 웹 브라우저 검색을 통해 해당 주제분류번호를 자연어로 치환\n",
    "- 813.6 : 한국소설\n",
    "- 843 : 영미소설\n",
    "- 813.8 : 어린이 문학\n",
    "- 863 : 프랑스 소설\n",
    "- 818 : 한국 에세이"
   ]
  },
  {
   "cell_type": "code",
   "execution_count": 11,
   "id": "2a6ae7a4-7847-47ea-8da3-7a2b7c71d594",
   "metadata": {},
   "outputs": [
    {
     "data": {
      "text/plain": [
       "89378"
      ]
     },
     "execution_count": 11,
     "metadata": {},
     "output_type": "execute_result"
    }
   ],
   "source": [
    "df['주제분류번호'].isnull().sum()"
   ]
  },
  {
   "cell_type": "code",
   "execution_count": 12,
   "id": "65d72902-4552-433d-b624-58033ef4f2c5",
   "metadata": {},
   "outputs": [
    {
     "data": {
      "image/png": "[encoded data removed]",
      "text/plain": [
       "<Figure size 640x480 with 1 Axes>"
      ]
     },
     "metadata": {},
     "output_type": "display_data"
    }
   ],
   "source": [
    "# 인기 카테고리 대출건수 시각화\n",
    "top5_cat_pop = cat_pop.to_frame().head()\n",
    "cat_korean = [\"한국소설\", \"영미소설\", \"어린이 문학\", \"프랑스 소설\", \"한국 에세이\"]\n",
    "g = sns.barplot(data=top5_cat_pop, x=top5_cat_pop.index, y=top5_cat_pop['대출건수'], label=cat_korean)\n",
    "g.set_xticklabels(cat_korean)\n",
    "plt.xlabel(\"카테고리\")\n",
    "plt.ticklabel_format(style='plain', axis='y')\n",
    "plt.legend()\n",
    "plt.yticks(np.arange(0, 10000000, 2000000), ['','2백만','4백만','6백만', '8백만'])\n",
    "# plt.gca().yaxis.set_major_formatter(FuncFormatter(FuncFormatter(lambda y, pos: '{:,.0f}'.format(y/1000000) + '백만')))\n",
    "plt.title(\"<2023년 대출건수 기준 top5 인기 카테고리>\")\n",
    "plt.show()"
   ]
  },
  {
   "cell_type": "code",
   "execution_count": 13,
   "id": "84b40428-5189-49dc-bb45-39080a6579a3",
   "metadata": {},
   "outputs": [
    {
     "data": {
      "text/plain": [
       "도서명\n",
       "퀴즈! 과학상식                        143545\n",
       "마법천자문:손오공의 한자 대탐험               117757\n",
       "수학도둑                            117601\n",
       "세계 탐험 만화 역사상식                   102102\n",
       "(만화)삼국지                          94696\n",
       "신기한 스쿨버스 키즈                      80484\n",
       "太白山脈                             77787\n",
       "비뢰도                              74817\n",
       "삼국지                              71460\n",
       "(위기탈출)넘버원                        69560\n",
       "(만화로 보는)그리스 로마 신화                68621\n",
       "퇴마록                              67526\n",
       "三國志                              66261\n",
       "땡땡의 모험                           63892\n",
       "달팽이과학동화                          60792\n",
       "(만화로 보는)그리스 로마신화                 58552\n",
       "테마 세계 명작                         58056\n",
       "Oxford Reading Tree:Stage 1+     55417\n",
       "어린이 삼국유사.삼국사기                    53493\n",
       "土地                               52943\n",
       "묵향 :외전·다크 레이디                    52048\n",
       "상상대로 생각동화                        51884\n",
       "(야심만만)한국고전 천자문                   51740\n",
       "정령왕 엘퀴네스                         51612\n",
       "세계인물교양만화 Who?                    51362\n",
       "원피스=One piece                    50600\n",
       "아리랑                              49554\n",
       "마법의 시간여행                         48861\n",
       "Oxford Reading Tree:Stage 2+     48778\n",
       "(만화)임꺽정                          47852\n",
       "Name: 대출건수, dtype: int64"
      ]
     },
     "execution_count": 13,
     "metadata": {},
     "output_type": "execute_result"
    }
   ],
   "source": [
    "# 카테고리 상관없이 대출건수 기준 인기 있는 도서들 (30위)\n",
    "df.groupby('도서명')['대출건수'].sum().sort_values(ascending=False).head(30)"
   ]
  },
  {
   "cell_type": "markdown",
   "id": "f4668eb1-64b9-4d37-a0c1-80ac33130f39",
   "metadata": {},
   "source": [
    "## 도서관에 존재하는 카테고리별 도서 수와 대출 건수와의 상관관계"
   ]
  },
  {
   "cell_type": "code",
   "execution_count": 14,
   "id": "f5147e87-4d90-4c04-842b-46135f5ba9f3",
   "metadata": {},
   "outputs": [
    {
     "data": {
      "text/html": [
       "<div>\n",
       "<style scoped>\n",
       "    .dataframe tbody tr th:only-of-type {\n",
       "        vertical-align: middle;\n",
       "    }\n",
       "\n",
       "    .dataframe tbody tr th {\n",
       "        vertical-align: top;\n",
       "    }\n",
       "\n",
       "    .dataframe thead th {\n",
       "        text-align: right;\n",
       "    }\n",
       "</style>\n",
       "<table border=\"1\" class=\"dataframe\">\n",
       "  <thead>\n",
       "    <tr style=\"text-align: right;\">\n",
       "      <th></th>\n",
       "      <th>pop</th>\n",
       "    </tr>\n",
       "  </thead>\n",
       "  <tbody>\n",
       "    <tr>\n",
       "      <th>813.6</th>\n",
       "      <td>1</td>\n",
       "    </tr>\n",
       "    <tr>\n",
       "      <th>843</th>\n",
       "      <td>2</td>\n",
       "    </tr>\n",
       "    <tr>\n",
       "      <th>813.8</th>\n",
       "      <td>3</td>\n",
       "    </tr>\n",
       "    <tr>\n",
       "      <th>863</th>\n",
       "      <td>4</td>\n",
       "    </tr>\n",
       "    <tr>\n",
       "      <th>818</th>\n",
       "      <td>5</td>\n",
       "    </tr>\n",
       "  </tbody>\n",
       "</table>\n",
       "</div>"
      ],
      "text/plain": [
       "       pop\n",
       "813.6    1\n",
       "843      2\n",
       "813.8    3\n",
       "863      4\n",
       "818      5"
      ]
     },
     "execution_count": 14,
     "metadata": {},
     "output_type": "execute_result"
    }
   ],
   "source": [
    "cat_pop_indices = cat_pop.index.tolist()\n",
    "cat_pop_df = pd.DataFrame(np.arange(1, len(cat_pop_indices)+1), columns=[\"pop\"])\n",
    "cat_pop_df.index = cat_pop_indices\n",
    "cat_pop_df.head()"
   ]
  },
  {
   "cell_type": "code",
   "execution_count": 15,
   "id": "fbcf3f30-062c-4227-9e28-07feea9dc4e3",
   "metadata": {},
   "outputs": [
    {
     "data": {
      "text/html": [
       "<div>\n",
       "<style scoped>\n",
       "    .dataframe tbody tr th:only-of-type {\n",
       "        vertical-align: middle;\n",
       "    }\n",
       "\n",
       "    .dataframe tbody tr th {\n",
       "        vertical-align: top;\n",
       "    }\n",
       "\n",
       "    .dataframe thead th {\n",
       "        text-align: right;\n",
       "    }\n",
       "</style>\n",
       "<table border=\"1\" class=\"dataframe\">\n",
       "  <thead>\n",
       "    <tr style=\"text-align: right;\">\n",
       "      <th></th>\n",
       "      <th>exist</th>\n",
       "    </tr>\n",
       "  </thead>\n",
       "  <tbody>\n",
       "    <tr>\n",
       "      <th>843</th>\n",
       "      <td>1</td>\n",
       "    </tr>\n",
       "    <tr>\n",
       "      <th>813.8</th>\n",
       "      <td>2</td>\n",
       "    </tr>\n",
       "    <tr>\n",
       "      <th>813.6</th>\n",
       "      <td>3</td>\n",
       "    </tr>\n",
       "    <tr>\n",
       "      <th>818</th>\n",
       "      <td>4</td>\n",
       "    </tr>\n",
       "    <tr>\n",
       "      <th>813.7</th>\n",
       "      <td>5</td>\n",
       "    </tr>\n",
       "  </tbody>\n",
       "</table>\n",
       "</div>"
      ],
      "text/plain": [
       "       exist\n",
       "843        1\n",
       "813.8      2\n",
       "813.6      3\n",
       "818        4\n",
       "813.7      5"
      ]
     },
     "execution_count": 15,
     "metadata": {},
     "output_type": "execute_result"
    }
   ],
   "source": [
    "cat_exist = df['주제분류번호'].value_counts().index.tolist()\n",
    "cat_exist_df = pd.DataFrame(np.arange(1, len(cat_exist)+1), columns=[\"exist\"])\n",
    "cat_exist_df.index = cat_exist\n",
    "cat_exist_df.head()"
   ]
  },
  {
   "cell_type": "code",
   "execution_count": 16,
   "id": "657c9079-09a7-4ac8-8b3d-6cdc5f937060",
   "metadata": {},
   "outputs": [
    {
     "data": {
      "text/html": [
       "<div>\n",
       "<style scoped>\n",
       "    .dataframe tbody tr th:only-of-type {\n",
       "        vertical-align: middle;\n",
       "    }\n",
       "\n",
       "    .dataframe tbody tr th {\n",
       "        vertical-align: top;\n",
       "    }\n",
       "\n",
       "    .dataframe thead th {\n",
       "        text-align: right;\n",
       "    }\n",
       "</style>\n",
       "<table border=\"1\" class=\"dataframe\">\n",
       "  <thead>\n",
       "    <tr style=\"text-align: right;\">\n",
       "      <th></th>\n",
       "      <th>exist</th>\n",
       "      <th>pop</th>\n",
       "    </tr>\n",
       "  </thead>\n",
       "  <tbody>\n",
       "    <tr>\n",
       "      <th>exist</th>\n",
       "      <td>1.000000</td>\n",
       "      <td>0.794128</td>\n",
       "    </tr>\n",
       "    <tr>\n",
       "      <th>pop</th>\n",
       "      <td>0.794128</td>\n",
       "      <td>1.000000</td>\n",
       "    </tr>\n",
       "  </tbody>\n",
       "</table>\n",
       "</div>"
      ],
      "text/plain": [
       "          exist       pop\n",
       "exist  1.000000  0.794128\n",
       "pop    0.794128  1.000000"
      ]
     },
     "execution_count": 16,
     "metadata": {},
     "output_type": "execute_result"
    }
   ],
   "source": [
    "joined = cat_exist_df.join(cat_pop_df)\n",
    "joined.corr()"
   ]
  },
  {
   "cell_type": "code",
   "execution_count": 17,
   "id": "21979447-5d4a-41cd-92ab-369a59ad6980",
   "metadata": {},
   "outputs": [],
   "source": [
    "joined['diff'] = joined['exist'] - joined['pop']"
   ]
  },
  {
   "cell_type": "code",
   "execution_count": 18,
   "id": "b4b3e5da-0a9a-483c-9c2f-e0c09e203303",
   "metadata": {},
   "outputs": [
    {
     "data": {
      "image/png": "[encoded data removed]",
      "text/plain": [
       "<Figure size 640x480 with 1 Axes>"
      ]
     },
     "metadata": {},
     "output_type": "display_data"
    }
   ],
   "source": [
    "joined.plot(kind='scatter', x=\"exist\", y=\"pop\")\n",
    "plt.xlabel(\"카테고리 별 도서 수 순위\")\n",
    "plt.ylabel(\"카테고리 별 대출건수 순위\")\n",
    "plt.title(\"<카테고리 별 도서 수 순위와 대출건수 순위 산점도>\")\n",
    "plt.show()"
   ]
  },
  {
   "cell_type": "code",
   "execution_count": 19,
   "id": "147e9c8b-5b42-4cad-ae58-0c0cfd2fcca8",
   "metadata": {},
   "outputs": [
    {
     "data": {
      "text/html": [
       "<div>\n",
       "<style scoped>\n",
       "    .dataframe tbody tr th:only-of-type {\n",
       "        vertical-align: middle;\n",
       "    }\n",
       "\n",
       "    .dataframe tbody tr th {\n",
       "        vertical-align: top;\n",
       "    }\n",
       "\n",
       "    .dataframe thead th {\n",
       "        text-align: right;\n",
       "    }\n",
       "</style>\n",
       "<table border=\"1\" class=\"dataframe\">\n",
       "  <thead>\n",
       "    <tr style=\"text-align: right;\">\n",
       "      <th></th>\n",
       "      <th>exist</th>\n",
       "      <th>pop</th>\n",
       "      <th>diff</th>\n",
       "    </tr>\n",
       "  </thead>\n",
       "  <tbody>\n",
       "    <tr>\n",
       "      <th>808.8</th>\n",
       "      <td>427</td>\n",
       "      <td>88</td>\n",
       "      <td>339</td>\n",
       "    </tr>\n",
       "    <tr>\n",
       "      <th>980.8</th>\n",
       "      <td>315</td>\n",
       "      <td>100</td>\n",
       "      <td>215</td>\n",
       "    </tr>\n",
       "    <tr>\n",
       "      <th>388.3</th>\n",
       "      <td>239</td>\n",
       "      <td>77</td>\n",
       "      <td>162</td>\n",
       "    </tr>\n",
       "    <tr>\n",
       "      <th>511.1</th>\n",
       "      <td>229</td>\n",
       "      <td>90</td>\n",
       "      <td>139</td>\n",
       "    </tr>\n",
       "    <tr>\n",
       "      <th>830</th>\n",
       "      <td>204</td>\n",
       "      <td>67</td>\n",
       "      <td>137</td>\n",
       "    </tr>\n",
       "    <tr>\n",
       "      <th>817</th>\n",
       "      <td>180</td>\n",
       "      <td>56</td>\n",
       "      <td>124</td>\n",
       "    </tr>\n",
       "    <tr>\n",
       "      <th>219.2</th>\n",
       "      <td>199</td>\n",
       "      <td>81</td>\n",
       "      <td>118</td>\n",
       "    </tr>\n",
       "    <tr>\n",
       "      <th>634.9</th>\n",
       "      <td>207</td>\n",
       "      <td>92</td>\n",
       "      <td>115</td>\n",
       "    </tr>\n",
       "    <tr>\n",
       "      <th>388.311</th>\n",
       "      <td>148</td>\n",
       "      <td>46</td>\n",
       "      <td>102</td>\n",
       "    </tr>\n",
       "  </tbody>\n",
       "</table>\n",
       "</div>"
      ],
      "text/plain": [
       "         exist  pop  diff\n",
       "808.8      427   88   339\n",
       "980.8      315  100   215\n",
       "388.3      239   77   162\n",
       "511.1      229   90   139\n",
       "830        204   67   137\n",
       "817        180   56   124\n",
       "219.2      199   81   118\n",
       "634.9      207   92   115\n",
       "388.311    148   46   102"
      ]
     },
     "execution_count": 19,
     "metadata": {},
     "output_type": "execute_result"
    }
   ],
   "source": [
    "# 카테고리 순위에 비해 인기 순위가 높아 더 많은 책을 구비할 필요가 있어보이는 카테고리들\n",
    "condition1 = joined['pop'] <= 100\n",
    "condition2 = joined['diff'] >= 100\n",
    "joined[condition1 & condition2].sort_values('diff', ascending=False)\n",
    "# 808.8 은 세계 문학"
   ]
  },
  {
   "cell_type": "code",
   "execution_count": null,
   "id": "1b003c7e-7047-4313-b678-a70155b9a5ac",
   "metadata": {},
   "outputs": [],
   "source": []
  }
 ],
 "metadata": {
  "kernelspec": {
   "display_name": "Python 3 (ipykernel)",
   "language": "python",
   "name": "python3"
  },
  "language_info": {
   "codemirror_mode": {
    "name": "ipython",
    "version": 3
   },
   "file_extension": ".py",
   "mimetype": "text/x-python",
   "name": "python",
   "nbconvert_exporter": "python",
   "pygments_lexer": "ipython3",
   "version": "3.11.7"
  }
 },
 "nbformat": 4,
 "nbformat_minor": 5
}
